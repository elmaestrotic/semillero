{
  "nbformat": 4,
  "nbformat_minor": 0,
  "metadata": {
    "colab": {
      "name": "tealler-final-lp-ucn.ipynb",
      "provenance": [],
      "include_colab_link": true
    },
    "kernelspec": {
      "name": "python3",
      "display_name": "Python 3"
    },
    "language_info": {
      "name": "python"
    }
  },
  "cells": [
    {
      "cell_type": "markdown",
      "metadata": {
        "id": "view-in-github",
        "colab_type": "text"
      },
      "source": [
        "<a href=\"https://colab.research.google.com/github/elmaestrotic/semillero/blob/master/tealler_final_lp_ucn.ipynb\" target=\"_parent\"><img src=\"https://colab.research.google.com/assets/colab-badge.svg\" alt=\"Open In Colab\"/></a>"
      ]
    },
    {
      "cell_type": "code",
      "execution_count": null,
      "metadata": {
        "id": "yJta3F3nYWqn"
      },
      "outputs": [],
      "source": [
        "import random\n",
        "import math"
      ]
    },
    {
      "cell_type": "code",
      "source": [
        "def print_matrix(matrix, spaces=4):\n",
        "    \"\"\"\n",
        "        Imprimir matriz en pantalla separando cada elemento por espacios similares\n",
        "        matrix = lista de listas\n",
        "        spaces = espacios que se van a separar cada elemento\n",
        "    \"\"\"\n",
        "    # Coger cada lista dentro de la matriz\n",
        "    for i in matrix:\n",
        "        # Recorrer cada elemento de la lista\n",
        "        for j in i:\n",
        "            # Imprimir cada elemento tomando en cuenta los espacios que ocupa\n",
        "            print(f' %{spaces}s ' % j, end='|')\n",
        "        print(\"\")"
      ],
      "metadata": {
        "id": "xwFbJ3pBYlSn"
      },
      "execution_count": null,
      "outputs": []
    },
    {
      "cell_type": "code",
      "source": [
        "def random_int(min, max) -> int:\n",
        "    \"\"\"\n",
        "        Generar un numero aleatorio entre min y max\n",
        "        min = valor mínimo\n",
        "        max = valor máximo\n",
        "    \"\"\"\n",
        "    return random.randint(min, max)"
      ],
      "metadata": {
        "id": "jSF8HEjQYms9"
      },
      "execution_count": null,
      "outputs": []
    },
    {
      "cell_type": "code",
      "source": [
        "def generate_matrix(n, is_blank=False, max_number=10) -> list:\n",
        "    \"\"\"\n",
        "        Pregenerar una matriz de tamaño nxn\n",
        "        n = Tamaño de la matriz\n",
        "        is_blank = Si la matriz se genera con números aleatorios o en blanco (strings vacios)\n",
        "        max_number = número máximo que va a generar * 100\n",
        "    \"\"\"\n",
        "    if is_blank:\n",
        "        matrix = [[\"\" for i in range(n)] for j in range(n)]\n",
        "    else:\n",
        "        matrix = [[random_int(1, max_number*100)\n",
        "                   for i in range(n)] for j in range(n)]\n",
        "    return matrix"
      ],
      "metadata": {
        "id": "vuzpbB1dYoJU"
      },
      "execution_count": null,
      "outputs": []
    },
    {
      "cell_type": "code",
      "source": [
        "def find_min_or_max_position(matrix, num) -> dict:\n",
        "    \"\"\"\n",
        "        Hallar la posición de un número dentro de una matriz\n",
        "        matrix = lista de listas\n",
        "        num = Número al cual se va a hallar su posición\n",
        "    \"\"\"\n",
        "    position = {}\n",
        "\n",
        "    for i in range(len(matrix)):\n",
        "        for j in range(len(matrix)):\n",
        "            if matrix[i][j] == num:\n",
        "                position = {'Fila': i+1, 'Columna': j+1}\n",
        "                break\n",
        "    return position"
      ],
      "metadata": {
        "id": "lTsZqBPuYpkD"
      },
      "execution_count": null,
      "outputs": []
    },
    {
      "cell_type": "code",
      "source": [
        "def max_and_position(matrix) -> tuple:\n",
        "    \"\"\"\n",
        "        Hallar el máximo de una matriz y su posición\n",
        "        matrix = lista de listas\n",
        "        return:\n",
        "            max_number = número máximo\n",
        "            position = posición del número máximo\n",
        "    \"\"\"\n",
        "    max_number = float('-inf')\n",
        "\n",
        "    position = {}\n",
        "\n",
        "    for i in range(len(matrix)):\n",
        "        for j in range(len(matrix)):\n",
        "            if matrix[i][j] > max_number:\n",
        "                max_number = matrix[i][j]\n",
        "                position = {'Fila': i+1, 'Columna': j+1}\n",
        "\n",
        "    return max_number, position"
      ],
      "metadata": {
        "id": "w3bKXVOqYq26"
      },
      "execution_count": null,
      "outputs": []
    },
    {
      "cell_type": "code",
      "source": [
        "def min_and_position(matrix) -> tuple:\n",
        "    \"\"\"\n",
        "        Hallar el mínimo de una matriz y su posición\n",
        "        matrix = lista de listas\n",
        "        return:\n",
        "            min_number = número máximo\n",
        "            position = posición del número máximo\n",
        "    \"\"\"\n",
        "    min_number = float('inf')\n",
        "\n",
        "    position = {}\n",
        "\n",
        "    for i in range(len(matrix)):\n",
        "        for j in range(len(matrix)):\n",
        "            if matrix[i][j] < min_number:\n",
        "                min_number = matrix[i][j]\n",
        "                position = {'Fila': i+1, 'Columna': j+1}\n",
        "\n",
        "    return min_number, position"
      ],
      "metadata": {
        "id": "ljYAep83Ytqt"
      },
      "execution_count": null,
      "outputs": []
    },
    {
      "cell_type": "code",
      "source": [
        "def d_ppal(matrix) -> list:\n",
        "    \"\"\"\n",
        "        Obtener la diagonal principal de una matriz\n",
        "        matrix = lista de listas\n",
        "    \"\"\"\n",
        "    dppal = []\n",
        "\n",
        "    for i in range(len(matrix)):\n",
        "        dppal.append(matrix[i][i])\n",
        "\n",
        "    return dppal"
      ],
      "metadata": {
        "id": "qZKJNf8pYvHK"
      },
      "execution_count": null,
      "outputs": []
    },
    {
      "cell_type": "code",
      "source": [
        "def d_inv(matrix) -> list:\n",
        "    \"\"\"\n",
        "        Obtener la diagonal inversa de una matriz\n",
        "        matrix = lista de listas\n",
        "    \"\"\"\n",
        "    dinv = []\n",
        "\n",
        "    for i in range(len(matrix)):\n",
        "        dinv.append(matrix[i][len(matrix)-i-1])\n",
        "\n",
        "    return dinv"
      ],
      "metadata": {
        "id": "E0uD4ZhiYvkD"
      },
      "execution_count": null,
      "outputs": []
    },
    {
      "cell_type": "code",
      "source": [
        "def get_all_row(matrix, row, start=0, end=6) -> list:\n",
        "    \"\"\"\n",
        "        Obtener todas las filas de una matriz\n",
        "        matrix = lista de listas\n",
        "        row = fila a obtener de la matriz\n",
        "        start = posición en la que se inicia la obtención de fila\n",
        "        end = posición en la que termina la obtención de la fila\n",
        "    \"\"\"\n",
        "    all_row = []\n",
        "\n",
        "    for i in range(start, end):\n",
        "        all_row.append(matrix[row][i])\n",
        "    return all_row"
      ],
      "metadata": {
        "id": "8jAOlwtcYw37"
      },
      "execution_count": null,
      "outputs": []
    },
    {
      "cell_type": "code",
      "source": [
        "def get_all_colum(matrix, column, start=0) -> list:\n",
        "    \"\"\"\n",
        "        Obtener todas las columnas de una matriz\n",
        "        matrix = lista de listas\n",
        "        column = columna a obtener de la matriz\n",
        "        start = posición en la que se inicia la obtención de columna\n",
        "    \"\"\"\n",
        "    all_column = []\n",
        "\n",
        "    for i in range(start, len(matrix)):\n",
        "        all_column.append(matrix[i][column])\n",
        "\n",
        "    return all_column"
      ],
      "metadata": {
        "id": "WFaFMWoaYyZm"
      },
      "execution_count": null,
      "outputs": []
    },
    {
      "cell_type": "code",
      "source": [
        "def fibonacci_formula(n) -> int:\n",
        "    \"\"\"\n",
        "        Función que calcula el número de Fibonacci de un número dado\n",
        "        n = número dado\n",
        "    \"\"\"\n",
        "    if n < 2:\n",
        "        return n\n",
        "    return int(((1+math.sqrt(5))**n-(1-math.sqrt(5))**n)/(2**n*math.sqrt(5)))"
      ],
      "metadata": {
        "id": "lxXebdUSYzpk"
      },
      "execution_count": null,
      "outputs": []
    },
    {
      "cell_type": "code",
      "source": [
        "def repeat(list_a, list_b) -> list:\n",
        "    \"\"\"\n",
        "        Verificar los repetidos de dos listas\n",
        "        list_a = lista número 1\n",
        "        list_b = lista número 2\n",
        "    \"\"\"\n",
        "    final_list = []\n",
        "\n",
        "    for i in list_a:\n",
        "        if (i not in final_list) and (i in list_b):\n",
        "            final_list.append(i)\n",
        "\n",
        "    return final_list"
      ],
      "metadata": {
        "id": "WYX7ZNQqY0-O"
      },
      "execution_count": null,
      "outputs": []
    },
    {
      "cell_type": "code",
      "source": [
        "def matrix_to_list(matrix) -> list:\n",
        "    \"\"\"\n",
        "        Convertir una matriz en una lista única de elementos\n",
        "        matrix = lista de listas\n",
        "    \"\"\"\n",
        "    matrix_to_list = []\n",
        "\n",
        "    for i in matrix:\n",
        "        for j in i:\n",
        "            matrix_to_list.append(j)\n",
        "\n",
        "    return matrix_to_list"
      ],
      "metadata": {
        "id": "OPmkwOs5ZDdS"
      },
      "execution_count": null,
      "outputs": []
    },
    {
      "cell_type": "code",
      "source": [
        "def is_prime(num) -> bool:\n",
        "    \"\"\"\n",
        "        Verificar si un número es primo\n",
        "        num = Número a verificar\n",
        "    \"\"\"\n",
        "    for i in range(2, num):\n",
        "        if num % i == 0:\n",
        "            return False\n",
        "\n",
        "    return True"
      ],
      "metadata": {
        "id": "3MKrp4URZFxe"
      },
      "execution_count": null,
      "outputs": []
    },
    {
      "cell_type": "code",
      "source": [
        "def get_primes(num = 100) -> list:\n",
        "    list_primes = []\n",
        "\n",
        "    count = 2\n",
        "\n",
        "    while len(list_primes) != num:\n",
        "        if is_prime(count):\n",
        "            list_primes.append(count)\n",
        "        count += 1\n",
        "        \n",
        "    return list_primes"
      ],
      "metadata": {
        "id": "YaHHAgtrZGTG"
      },
      "execution_count": null,
      "outputs": []
    },
    {
      "cell_type": "code",
      "source": [
        "def percentage(matrix, i):\n",
        "    \"\"\"\n",
        "        Hallar el porcentaje de un número en una matriz\n",
        "        matrix = lista de listas\n",
        "        i = número a hallar el porcentaje\n",
        "    \"\"\"\n",
        "    return round(matrix[5][i]*100/matrix[-1][-1], 2)"
      ],
      "metadata": {
        "id": "RTG1UH_yZHrv"
      },
      "execution_count": null,
      "outputs": []
    },
    {
      "cell_type": "code",
      "source": [
        "def getMaxValues(l, q) -> list:\n",
        "    \"\"\"\n",
        "        Hallar los valores máximos de una lista\n",
        "        l = lista de números\n",
        "        q = cantidad de valores máximos a hallar\n",
        "    \"\"\"\n",
        "    return sorted(list(set(l)), reverse=True)[:q]"
      ],
      "metadata": {
        "id": "7qPf0t3sZJCK"
      },
      "execution_count": null,
      "outputs": []
    },
    {
      "cell_type": "code",
      "source": [
        "def row_headers(matrix):\n",
        "    \"\"\"\n",
        "        Colocar las etiquetas de las filas de una matriz\n",
        "        matrix = lista de listas\n",
        "    \"\"\"\n",
        "    matrix[0][0] = \"Zona\"\n",
        "    matrix[5][0] = \"Total\"\n",
        "\n",
        "    for i in range(4):\n",
        "        matrix[i+1][0] = f\"{i+1}\""
      ],
      "metadata": {
        "id": "Jk7RhN10ZKfO"
      },
      "execution_count": null,
      "outputs": []
    },
    {
      "cell_type": "code",
      "source": [
        "def cols_header(matrix, personal_names=False):\n",
        "    \"\"\"\n",
        "        Colocar las etiquetas de las columnas de una matriz\n",
        "        matrix = lista de listas\n",
        "        personal_names = Si se desea ingresar el nombre del candidato y que este no venga por defecto\n",
        "    \"\"\"\n",
        "    matrix[0][4] = \"Total\"\n",
        "\n",
        "    for i in range(3):\n",
        "        if personal_names:\n",
        "            matrix[0][i+1] = input(f\"Nombre del candidato {i+1}: \")\n",
        "        else:\n",
        "            matrix[0][i+1] = f\"Candidato {i+1}\""
      ],
      "metadata": {
        "id": "hR0CHNnvZXUp"
      },
      "execution_count": null,
      "outputs": []
    },
    {
      "cell_type": "code",
      "source": [
        "def total_votes(matrix, is_col=True):\n",
        "    \"\"\"\n",
        "        Hallar el total de votos de una matriz por fila y columna\n",
        "        matrix = lista de listas\n",
        "        is_col = Si se desea hallar el total de votos por columna o por fila\n",
        "    \"\"\"\n",
        "    if is_col:\n",
        "        for i in range(1, 4):\n",
        "            suma_col = sum(\n",
        "                get_all_colum(matrix, i, start=1)[:len(matrix)-2]\n",
        "            )\n",
        "            matrix[len(matrix)-1][i] = suma_col\n",
        "    else:\n",
        "        for j in range(1, len(matrix)):\n",
        "            suma_fil = sum(\n",
        "                get_all_row(matrix, j, start=1, end=4)\n",
        "            )\n",
        "            matrix[j][4] = suma_fil"
      ],
      "metadata": {
        "id": "X8ywyWulZZEH"
      },
      "execution_count": null,
      "outputs": []
    },
    {
      "cell_type": "code",
      "source": [
        "def vote_values(matrix, use_random):\n",
        "    \"\"\"\n",
        "        Hallar los valores de los votos de una matriz\n",
        "        matrix = lista de listas\n",
        "        use_random = Si se desea que los valores de los votos sean aleatorios o llenarlos a mano\n",
        "    \"\"\"\n",
        "    for zona in range(1, len(matrix)-1):\n",
        "        for candidato in range(1, len(matrix[zona])-1):\n",
        "            if use_random:\n",
        "                matrix[zona][candidato] = random.randint(0, 100)\n",
        "            else:\n",
        "                matrix[zona][candidato] = int(\n",
        "                    input(f\"Cantidad de votos Candidato {candidato} zona {zona}: \"))"
      ],
      "metadata": {
        "id": "RvWYTArdZbj0"
      },
      "execution_count": null,
      "outputs": []
    },
    {
      "cell_type": "code",
      "source": [
        "def error():\n",
        "    \"\"\"\n",
        "        Mensaje de error por seleccionar una opción incorrecta\n",
        "    \"\"\"\n",
        "    print(\"Has seleccionado una opción no válida\")"
      ],
      "metadata": {
        "id": "O3fF7SoEZc1v"
      },
      "execution_count": null,
      "outputs": []
    },
    {
      "cell_type": "code",
      "source": [
        "def menu_list():\n",
        "    \"\"\"\n",
        "        Opciones a elegir en el menú\n",
        "    \"\"\"\n",
        "    menu_list = (\n",
        "        \"\"\"\n",
        "    1.  Mayor y menor de una matriz y sus posiciones\n",
        "    2.  Sumatoria de diagonales\n",
        "    3.  Sumatoria de columnas\n",
        "    4.  Palabra en la diagonal principal\n",
        "    5.  Palabra en diagonales\n",
        "    6.  Números en la serie de Fibonacci\n",
        "    7.  Números en los números primos\n",
        "    8.  Sistema de votación por zonas\n",
        "    9.  Generar una matriz en espiral\n",
        "    \"\"\"\n",
        "    )\n",
        "\n",
        "    print(menu_list)"
      ],
      "metadata": {
        "id": "sJzX4PjEZdV5"
      },
      "execution_count": null,
      "outputs": []
    },
    {
      "cell_type": "code",
      "source": [
        "def question():\n",
        "    \"\"\"\n",
        "        Pregunta al usuario si desea continuar, si no, se sale del programa o muestra nuevamente el menú\n",
        "    \"\"\"\n",
        "    print(\n",
        "\"\"\"\n",
        "__________________________________________________________________\n",
        "|1. Para terminar la ejecución del programa, ingrese: 'SALIR'    |\n",
        "|2. Para ver el menú ingresa:                         'MENÚ'     |       \n",
        "|3. Para ejecutar un nuevo punto:                     'OTRO'     |\n",
        "\"\"\"\n",
        "    )"
      ],
      "metadata": {
        "id": "XcYrJ4_kZfxb"
      },
      "execution_count": null,
      "outputs": []
    },
    {
      "cell_type": "code",
      "source": [
        "def matrix_10x10_max_and_min():\n",
        "    \"\"\"\n",
        "        Generar  una  matriz  de  10x10  de  números  enteros  aleatorios  y  mostrar  cuál  es  el  \n",
        "        elemento mayor y en qué posición (coordenadas de los índices se encuentra). De igual \n",
        "        forma mostrar el elemento menor y en que posición de la matriz se encuentra. \n",
        "    \"\"\"\n",
        "    print(\"1.  Mayor y menor de una matriz y sus posiciones\")\n",
        "    matrix = generate_matrix(10)\n",
        "\n",
        "    print_matrix(matrix)\n",
        "\n",
        "    print(f\"\"\"(Para las filas y columns, contar desde 1)   \n",
        "Forma 1 | Usando for para hallar el valor máximo y mínimo + su posición:\n",
        "El número mayor es: {max_and_position(matrix)[0]} y su posición es: {max_and_position(matrix)[1]}\n",
        "El número menor es: {min_and_position(matrix)[0]} y su posición es: {min_and_position(matrix)[1]}\n",
        "Si hay uno repetido muestra el primer indice\n",
        "\"\"\")\n",
        "\n",
        "    max_number = max(map(max, matrix))\n",
        "    min_number = min(map(min, matrix))\n",
        "\n",
        "    print(f\"\"\"(Para las filas y columns, contar desde 1)\n",
        "Forma 2 | Usando map, max y min para hallar el valor máximo y mínimo y después hallar el indice del valor:\n",
        "El número mayor es: {max_number} y su posición es: {find_min_or_max_position(matrix, max_number)}\n",
        "El número menor es: {min_number} y su posición es: {find_min_or_max_position(matrix, min_number)}\n",
        "Si hay uno repetido muestra el último indice\n",
        "\"\"\")"
      ],
      "metadata": {
        "id": "B66OlAkEZiKE"
      },
      "execution_count": null,
      "outputs": []
    },
    {
      "cell_type": "code",
      "source": [
        "matrix_10x10_max_and_min()"
      ],
      "metadata": {
        "colab": {
          "base_uri": "https://localhost:8080/"
        },
        "id": "4kkqRcmiZkl7",
        "outputId": "4dab8033-6e47-437e-f4af-8efbe673bd5c"
      },
      "execution_count": null,
      "outputs": [
        {
          "output_type": "stream",
          "name": "stdout",
          "text": [
            "1.  Mayor y menor de una matriz y sus posiciones\n",
            "  647 |  598 |  566 |  903 |  688 |  279 |  110 |  232 |  538 |  186 |\n",
            "  743 |  110 |  447 |  322 |  508 |  374 |  431 |   70 |  634 |  875 |\n",
            "  830 |  777 |  235 |  237 |  655 |  821 |  389 |   60 |  681 |  193 |\n",
            "  828 |  307 |  474 |  447 |  338 |  343 |  595 |  332 |  773 |  522 |\n",
            "  185 |  131 |  428 |   68 |  236 |   68 |  629 |  242 |  950 |  228 |\n",
            "  398 |  190 |  819 |   88 |  103 |  455 |  786 |  837 |  564 |  677 |\n",
            "  867 |  937 |  481 |  824 |  100 |  630 |  595 |  725 |  604 |  451 |\n",
            "  850 |  872 |  657 |  964 |  689 |   19 |  194 |  209 |  954 |   72 |\n",
            "  832 |  217 |  791 |  402 |   59 |  726 |  739 |  230 |  643 |   67 |\n",
            "  566 |  928 |  124 |  814 |   46 |  747 |  936 |  790 |  366 |  481 |\n",
            "(Para las filas y columns, contar desde 1)   \n",
            "Forma 1 | Usando for para hallar el valor máximo y mínimo + su posición:\n",
            "El número mayor es: 964 y su posición es: {'Fila': 8, 'Columna': 4}\n",
            "El número menor es: 19 y su posición es: {'Fila': 8, 'Columna': 6}\n",
            "Si hay uno repetido muestra el primer indice\n",
            "\n",
            "(Para las filas y columns, contar desde 1)\n",
            "Forma 2 | Usando map, max y min para hallar el valor máximo y mínimo y después hallar el indice del valor:\n",
            "El número mayor es: 964 y su posición es: {'Fila': 8, 'Columna': 4}\n",
            "El número menor es: 19 y su posición es: {'Fila': 8, 'Columna': 6}\n",
            "Si hay uno repetido muestra el último indice\n",
            "\n"
          ]
        }
      ]
    },
    {
      "cell_type": "code",
      "source": [
        "def d_ppal_and_inv_sum():\n",
        "    \"\"\"\n",
        "        Generar  una  matriz  de  10x10  de  números  enteros  aleatorios,  mostrar  los  elementos  \n",
        "        que  conforman  la  diagonal  principal  y  su  sumatoria.  De  igual  forma  mostrar  los  \n",
        "        elementos que conforman la diagonal inversa y la sumatoria de dicha diagonal. \n",
        "        print además la resta de la diagonal inversa menos la diagonal principal.\n",
        "    \"\"\"\n",
        "    print(\"2.  Sumatoria de diagonales\")\n",
        "    matrix = generate_matrix(10)\n",
        "\n",
        "    print_matrix(matrix)\n",
        "\n",
        "    print(f\"\"\"La diagonal principal es: {d_ppal(matrix)}\n",
        "La suma de la diagonal principal es: {sum(d_ppal(matrix))}\n",
        "La diagonal inversa es: {d_inv(matrix)}\n",
        "La suma de la diagonal inversa es: {sum(d_inv(matrix))}\n",
        "La resta de la diagonal inversa menos la diagonal principal es: {sum(d_inv(matrix)) - sum(d_ppal(matrix))}\"\"\")"
      ],
      "metadata": {
        "id": "1aSJ1RBeZmyj"
      },
      "execution_count": null,
      "outputs": []
    },
    {
      "cell_type": "code",
      "source": [
        "d_ppal_and_inv_sum()"
      ],
      "metadata": {
        "colab": {
          "base_uri": "https://localhost:8080/"
        },
        "id": "McjQVpfLZpta",
        "outputId": "e0ca95f4-2302-4555-bdb9-79648d56822e"
      },
      "execution_count": null,
      "outputs": [
        {
          "output_type": "stream",
          "name": "stdout",
          "text": [
            "2.  Sumatoria de diagonales\n",
            "  683 |  724 |  850 |  109 |  732 |  350 |  998 |  827 |  100 |  753 |\n",
            "  733 |  588 |  644 |  199 |  251 |  220 |  175 |  304 |  529 |  811 |\n",
            "  198 |   90 |  582 |  730 |  723 |  419 |  546 |  172 |  533 |  273 |\n",
            "  885 |  907 |  406 |   14 |  513 |   66 |  581 |  589 |  158 |   39 |\n",
            "  586 |  526 |  686 |  737 |  752 |  341 |  654 |  539 |  111 |  461 |\n",
            "  265 |  827 |  884 |  209 |  619 |  134 |  628 |  162 |  558 |  217 |\n",
            "  834 |  594 |  696 |  719 |  453 |  287 |  671 |  857 |  112 |  579 |\n",
            "  794 |  360 |   72 |  390 |  738 |  804 |  700 |  548 |  254 |  520 |\n",
            "  515 |  331 |  115 |  542 |  221 |   16 |  432 |  604 |  324 |  223 |\n",
            "  409 |  337 |  627 |  163 |  499 |  812 |  787 |  493 |  383 |  459 |\n",
            "La diagonal principal es: [683, 588, 582, 14, 752, 134, 671, 548, 324, 459]\n",
            "La suma de la diagonal principal es: 4755\n",
            "La diagonal inversa es: [753, 529, 172, 581, 341, 619, 719, 72, 331, 409]\n",
            "La suma de la diagonal inversa es: 4526\n",
            "La resta de la diagonal inversa menos la diagonal principal es: -229\n"
          ]
        }
      ]
    },
    {
      "cell_type": "code",
      "source": [
        "def sum_cols():\n",
        "    \"\"\"\n",
        "        Generar  una  matriz  de  10x10  de  números  enteros  aleatorios,  mostrar  los  elementos  \n",
        "        que  conforman  la  diagonal  principal  y  su  sumatoria.  De  igual  forma  mostrar  los  \n",
        "        elementos que conforman la diagonal inversa y la sumatoria de dicha diagonal. \n",
        "        Imprimir además la resta de la diagonal inversa menos la diagonal principal. \n",
        "    \"\"\"\n",
        "    print(\"3.  Sumatoria de columnas\")\n",
        "    matrix = generate_matrix(10)\n",
        "\n",
        "    print_matrix(matrix, 4)\n",
        "\n",
        "    for i in range(len(matrix)):\n",
        "        print(\n",
        "            f\"La suma de la column {i+1} es: {sum(get_all_colum(matrix, i))}\"\n",
        "        )"
      ],
      "metadata": {
        "id": "Wl_Bz5UBZup5"
      },
      "execution_count": null,
      "outputs": []
    },
    {
      "cell_type": "code",
      "source": [
        "sum_cols()"
      ],
      "metadata": {
        "colab": {
          "base_uri": "https://localhost:8080/"
        },
        "id": "2fABZK7VZvcZ",
        "outputId": "01979bef-4fb9-48e1-db29-3ba1a1ee106a"
      },
      "execution_count": null,
      "outputs": [
        {
          "output_type": "stream",
          "name": "stdout",
          "text": [
            "3.  Sumatoria de columnas\n",
            "  557 |  775 |  900 |  765 |   73 |  525 |  713 |  140 |  677 |  609 |\n",
            "  422 |   32 |  983 |  562 |  218 |  300 |  221 |  897 |  274 |  314 |\n",
            "  998 |  926 |   56 |  526 |   58 |  747 |  325 |  258 |  901 |  971 |\n",
            "   67 |  426 |  788 |  308 |  112 |  954 |   20 |  228 |  557 |  371 |\n",
            "  518 |  187 |  218 |  480 |  763 |   63 |  356 |  798 |  539 |  987 |\n",
            "  493 |  985 |  515 |  873 |  339 |  491 |  378 |  113 |   10 |  859 |\n",
            "  588 |   40 |  103 |  518 |  255 |  531 |  485 |  293 |  330 |  299 |\n",
            "  311 |  358 |  137 |  710 |  100 |  584 |  485 |  139 |  149 |  512 |\n",
            "  197 |  402 |  713 |  243 |  502 |  852 |  445 |  986 |  887 |  117 |\n",
            "  202 |  241 |  584 |  623 |  467 |  297 |  343 |  133 |  399 |  612 |\n",
            "La suma de la column 1 es: 4353\n",
            "La suma de la column 2 es: 4372\n",
            "La suma de la column 3 es: 4997\n",
            "La suma de la column 4 es: 5608\n",
            "La suma de la column 5 es: 2887\n",
            "La suma de la column 6 es: 5344\n",
            "La suma de la column 7 es: 3771\n",
            "La suma de la column 8 es: 3985\n",
            "La suma de la column 9 es: 4723\n",
            "La suma de la column 10 es: 5651\n"
          ]
        }
      ]
    },
    {
      "cell_type": "code",
      "source": [
        "def word_in_ppal_diag():\n",
        "    \"\"\"\n",
        "        Escribir un algoritmo que pida una palabra y genere una matriz de modo que la palabra \n",
        "        salga en la diagonal principal. Imprimir la matriz. \n",
        "    \"\"\"\n",
        "    print(\"4.  Palabra en la diagonal principal\")\n",
        "    word = input(\"Ingrese una palabra: \").upper()\n",
        "\n",
        "    matrix = generate_matrix(len(word), True)\n",
        "\n",
        "    for i in range(len(matrix)):\n",
        "        matrix[i][i] = word[i]\n",
        "\n",
        "    print_matrix(matrix, 1)"
      ],
      "metadata": {
        "id": "yVDcT0l5Zy1_"
      },
      "execution_count": null,
      "outputs": []
    },
    {
      "cell_type": "code",
      "source": [
        "word_in_ppal_diag()"
      ],
      "metadata": {
        "colab": {
          "base_uri": "https://localhost:8080/"
        },
        "id": "TSbU6eNeZ1QP",
        "outputId": "2e3992fe-da74-486b-86ca-16d1b8fc104d"
      },
      "execution_count": null,
      "outputs": [
        {
          "output_type": "stream",
          "name": "stdout",
          "text": [
            "4.  Palabra en la diagonal principal\n",
            "Ingrese una palabra: Hola profe qué más?\n",
            " H |   |   |   |   |   |   |   |   |   |   |   |   |   |   |   |   |   |   |\n",
            "   | O |   |   |   |   |   |   |   |   |   |   |   |   |   |   |   |   |   |\n",
            "   |   | L |   |   |   |   |   |   |   |   |   |   |   |   |   |   |   |   |\n",
            "   |   |   | A |   |   |   |   |   |   |   |   |   |   |   |   |   |   |   |\n",
            "   |   |   |   |   |   |   |   |   |   |   |   |   |   |   |   |   |   |   |\n",
            "   |   |   |   |   | P |   |   |   |   |   |   |   |   |   |   |   |   |   |\n",
            "   |   |   |   |   |   | R |   |   |   |   |   |   |   |   |   |   |   |   |\n",
            "   |   |   |   |   |   |   | O |   |   |   |   |   |   |   |   |   |   |   |\n",
            "   |   |   |   |   |   |   |   | F |   |   |   |   |   |   |   |   |   |   |\n",
            "   |   |   |   |   |   |   |   |   | E |   |   |   |   |   |   |   |   |   |\n",
            "   |   |   |   |   |   |   |   |   |   |   |   |   |   |   |   |   |   |   |\n",
            "   |   |   |   |   |   |   |   |   |   |   | Q |   |   |   |   |   |   |   |\n",
            "   |   |   |   |   |   |   |   |   |   |   |   | U |   |   |   |   |   |   |\n",
            "   |   |   |   |   |   |   |   |   |   |   |   |   | É |   |   |   |   |   |\n",
            "   |   |   |   |   |   |   |   |   |   |   |   |   |   |   |   |   |   |   |\n",
            "   |   |   |   |   |   |   |   |   |   |   |   |   |   |   | M |   |   |   |\n",
            "   |   |   |   |   |   |   |   |   |   |   |   |   |   |   |   | Á |   |   |\n",
            "   |   |   |   |   |   |   |   |   |   |   |   |   |   |   |   |   | S |   |\n",
            "   |   |   |   |   |   |   |   |   |   |   |   |   |   |   |   |   |   | ? |\n"
          ]
        }
      ]
    },
    {
      "cell_type": "code",
      "source": [
        "def word_in_ppal_and_inv_diag():\n",
        "    \"\"\"\n",
        "        Escribir un algoritmo que pida una palabra y genere una matriz cuadrada de modo que \n",
        "        la palabra salga en la diagonal principal y en la diagonal inversa salga también la palabra \n",
        "        empezando la primera letra de la misma en la primera column a la izquierda. \n",
        "    \"\"\"\n",
        "    print(\"5.  Palabra en diagonales\")\n",
        "    word = input(\"Ingrese una palabra: \").upper()\n",
        "\n",
        "    inverted_word = word[::-1]\n",
        "\n",
        "    matrix = generate_matrix(len(word), True)\n",
        "\n",
        "    for i in range(len(matrix)):\n",
        "        matrix[i][i] = word[i]\n",
        "        matrix[i][len(matrix)-i-1] = inverted_word[i]\n",
        "\n",
        "    print_matrix(matrix, 1)"
      ],
      "metadata": {
        "id": "t865udMUZ3xN"
      },
      "execution_count": null,
      "outputs": []
    },
    {
      "cell_type": "code",
      "source": [
        "word_in_ppal_and_inv_diag()"
      ],
      "metadata": {
        "colab": {
          "base_uri": "https://localhost:8080/"
        },
        "id": "MlFhyp_2Z6lo",
        "outputId": "7385caf5-5b1d-4ddd-d5d1-5102298a1fca"
      },
      "execution_count": null,
      "outputs": [
        {
          "output_type": "stream",
          "name": "stdout",
          "text": [
            "5.  Palabra en diagonales\n",
            "Ingrese una palabra: Yo ando melo con este taller\n",
            " Y |   |   |   |   |   |   |   |   |   |   |   |   |   |   |   |   |   |   |   |   |   |   |   |   |   |   | R |\n",
            "   | O |   |   |   |   |   |   |   |   |   |   |   |   |   |   |   |   |   |   |   |   |   |   |   |   | E |   |\n",
            "   |   |   |   |   |   |   |   |   |   |   |   |   |   |   |   |   |   |   |   |   |   |   |   |   | L |   |   |\n",
            "   |   |   | A |   |   |   |   |   |   |   |   |   |   |   |   |   |   |   |   |   |   |   |   | L |   |   |   |\n",
            "   |   |   |   | N |   |   |   |   |   |   |   |   |   |   |   |   |   |   |   |   |   |   | A |   |   |   |   |\n",
            "   |   |   |   |   | D |   |   |   |   |   |   |   |   |   |   |   |   |   |   |   |   | T |   |   |   |   |   |\n",
            "   |   |   |   |   |   | O |   |   |   |   |   |   |   |   |   |   |   |   |   |   |   |   |   |   |   |   |   |\n",
            "   |   |   |   |   |   |   |   |   |   |   |   |   |   |   |   |   |   |   |   | E |   |   |   |   |   |   |   |\n",
            "   |   |   |   |   |   |   |   | M |   |   |   |   |   |   |   |   |   |   | T |   |   |   |   |   |   |   |   |\n",
            "   |   |   |   |   |   |   |   |   | E |   |   |   |   |   |   |   |   | S |   |   |   |   |   |   |   |   |   |\n",
            "   |   |   |   |   |   |   |   |   |   | L |   |   |   |   |   |   | E |   |   |   |   |   |   |   |   |   |   |\n",
            "   |   |   |   |   |   |   |   |   |   |   | O |   |   |   |   |   |   |   |   |   |   |   |   |   |   |   |   |\n",
            "   |   |   |   |   |   |   |   |   |   |   |   |   |   |   | N |   |   |   |   |   |   |   |   |   |   |   |   |\n",
            "   |   |   |   |   |   |   |   |   |   |   |   |   | C | O |   |   |   |   |   |   |   |   |   |   |   |   |   |\n",
            "   |   |   |   |   |   |   |   |   |   |   |   |   | C | O |   |   |   |   |   |   |   |   |   |   |   |   |   |\n",
            "   |   |   |   |   |   |   |   |   |   |   |   |   |   |   | N |   |   |   |   |   |   |   |   |   |   |   |   |\n",
            "   |   |   |   |   |   |   |   |   |   |   | O |   |   |   |   |   |   |   |   |   |   |   |   |   |   |   |   |\n",
            "   |   |   |   |   |   |   |   |   |   | L |   |   |   |   |   |   | E |   |   |   |   |   |   |   |   |   |   |\n",
            "   |   |   |   |   |   |   |   |   | E |   |   |   |   |   |   |   |   | S |   |   |   |   |   |   |   |   |   |\n",
            "   |   |   |   |   |   |   |   | M |   |   |   |   |   |   |   |   |   |   | T |   |   |   |   |   |   |   |   |\n",
            "   |   |   |   |   |   |   |   |   |   |   |   |   |   |   |   |   |   |   |   | E |   |   |   |   |   |   |   |\n",
            "   |   |   |   |   |   | O |   |   |   |   |   |   |   |   |   |   |   |   |   |   |   |   |   |   |   |   |   |\n",
            "   |   |   |   |   | D |   |   |   |   |   |   |   |   |   |   |   |   |   |   |   |   | T |   |   |   |   |   |\n",
            "   |   |   |   | N |   |   |   |   |   |   |   |   |   |   |   |   |   |   |   |   |   |   | A |   |   |   |   |\n",
            "   |   |   | A |   |   |   |   |   |   |   |   |   |   |   |   |   |   |   |   |   |   |   |   | L |   |   |   |\n",
            "   |   |   |   |   |   |   |   |   |   |   |   |   |   |   |   |   |   |   |   |   |   |   |   |   | L |   |   |\n",
            "   | O |   |   |   |   |   |   |   |   |   |   |   |   |   |   |   |   |   |   |   |   |   |   |   |   | E |   |\n",
            " Y |   |   |   |   |   |   |   |   |   |   |   |   |   |   |   |   |   |   |   |   |   |   |   |   |   |   | R |\n"
          ]
        }
      ]
    },
    {
      "cell_type": "code",
      "source": [
        "def matrix_of_fibonacci():\n",
        "    \"\"\"\n",
        "        Generar una matriz de 10 x10 de números enteros aleatorios y mostrar cuántos y cuáles \n",
        "        de ellos números, es decir de los números almacenados en la matriz pertenecen a los \n",
        "        100 primeros números de la serie Fibonacci.\n",
        "    \"\"\"\n",
        "    print(\"6.  Números en la serie de Fibonacci\")\n",
        "    fib = [fibonacci_formula(i) for i in range(100)]\n",
        "\n",
        "    matrix = generate_matrix(10)\n",
        "\n",
        "    print(f\"Serie de Fibonacci: {fib}\")\n",
        "\n",
        "    print_matrix(matrix)\n",
        "\n",
        "    print(\n",
        "        f\"Números de la matriz que pertenecen a la serie de Fibonacci: {repeat(fib, matrix_to_list(matrix))}\"\n",
        "    )"
      ],
      "metadata": {
        "id": "U39q0y3OZ9zR"
      },
      "execution_count": null,
      "outputs": []
    },
    {
      "cell_type": "code",
      "source": [
        "matrix_of_fibonacci()"
      ],
      "metadata": {
        "colab": {
          "base_uri": "https://localhost:8080/"
        },
        "id": "PZfmRDtGaAKI",
        "outputId": "95a9d52d-9c1c-4716-cd8c-4ced84f3acba"
      },
      "execution_count": null,
      "outputs": [
        {
          "output_type": "stream",
          "name": "stdout",
          "text": [
            "6.  Números en la serie de Fibonacci\n",
            "Serie de Fibonacci: [0, 1, 1, 2, 3, 5, 8, 13, 21, 34, 55, 89, 144, 233, 377, 610, 987, 1597, 2584, 4181, 6765, 10946, 17711, 28657, 46368, 75025, 121393, 196418, 317811, 514229, 832040, 1346269, 2178309, 3524578, 5702887, 9227465, 14930352, 24157817, 39088169, 63245986, 102334155, 165580141, 267914296, 433494437, 701408733, 1134903170, 1836311903, 2971215073, 4807526976, 7778742049, 12586269025, 20365011074, 32951280099, 53316291173, 86267571272, 139583862445, 225851433717, 365435296162, 591286729879, 956722026041, 1548008755920, 2504730781961, 4052739537881, 6557470319842, 10610209857723, 17167680177565, 27777890035288, 44945570212853, 72723460248141, 117669030460994, 190392490709135, 308061521170129, 498454011879265, 806515533049395, 1304969544928660, 2111485077978055, 3416454622906715, 5527939700884771, 8944394323791488, 14472334024676260, 23416728348467744, 37889062373144008, 61305790721611752, 99194853094755776, 160500643816367552, 259695496911123328, 420196140727490880, 679891637638614272, 1100087778366105088, 1779979416004719360, 2880067194370824704, 4660046610375544832, 7540113804746369024, 12200160415121913856, 19740274219868282880, 31940434634990198784, 51680708854858489856, 83621143489848688640, 135301852344707186688, 218922995834555891712]\n",
            "   28 |   26 |  501 |  839 |  437 |   95 |  520 |  759 |  894 |  381 |\n",
            "  432 |   68 |  359 |  421 |  779 |  951 |  444 |  124 |  294 |  954 |\n",
            "  968 |  286 |  876 |  989 |  173 |  618 |  556 |  117 |  857 |  311 |\n",
            "  149 |  743 |  553 |  698 |  530 |  364 |  318 |  769 |  520 |  394 |\n",
            "  920 |  442 |  409 |  706 |   21 |  446 |  970 |  943 |  419 |  489 |\n",
            "  217 |  776 |  150 |  413 |  848 |  691 |  371 |  189 |  247 |  448 |\n",
            "  987 |  528 |  506 |   69 |  335 |   52 |  719 |  433 |  365 |  525 |\n",
            "  426 |    5 |  270 |  463 |  198 |  411 |  781 |  216 |   84 |  389 |\n",
            "  708 |  386 |  379 |  173 |  678 |  949 |  580 |  253 |   53 |  757 |\n",
            "  866 |  965 |  498 |  388 |  990 |  390 |  722 |  172 |  543 |  129 |\n",
            "Números de la matriz que pertenecen a la serie de Fibonacci: [5, 21, 987]\n"
          ]
        }
      ]
    },
    {
      "cell_type": "code",
      "source": [
        "def matrix_of_primes():\n",
        "    \"\"\"\n",
        "        Generar una matriz de 10 x10 de números enteros aleatorios y mostrar cuántos y cuáles \n",
        "        de  ellos  números  almacenados  en  la  matriz  pertenecen  a  los  100  primeros  números  \n",
        "        primos. \n",
        "    \"\"\"\n",
        "    print(\"7.  Números en los números primos\")\n",
        "\n",
        "    print(f\"Primeros 100 números primos: {get_primes()}\")\n",
        "\n",
        "    matrix = generate_matrix(10)\n",
        "\n",
        "    print_matrix(matrix)\n",
        "\n",
        "    print(\n",
        "        f\"Números de la matriz que pertenecen a los primeros 100 números primos: {repeat(get_primes(), matrix_to_list(matrix))}\"\n",
        "    )"
      ],
      "metadata": {
        "id": "x2TH5SoEaAqx"
      },
      "execution_count": null,
      "outputs": []
    },
    {
      "cell_type": "code",
      "source": [
        "matrix_of_primes()"
      ],
      "metadata": {
        "colab": {
          "base_uri": "https://localhost:8080/"
        },
        "id": "DQGdgQakaD9v",
        "outputId": "1fd45e0c-ad8f-4f7f-c05c-871f10886fb9"
      },
      "execution_count": null,
      "outputs": [
        {
          "output_type": "stream",
          "name": "stdout",
          "text": [
            "7.  Números en los números primos\n",
            "Primeros 100 números primos: [2, 3, 5, 7, 11, 13, 17, 19, 23, 29, 31, 37, 41, 43, 47, 53, 59, 61, 67, 71, 73, 79, 83, 89, 97, 101, 103, 107, 109, 113, 127, 131, 137, 139, 149, 151, 157, 163, 167, 173, 179, 181, 191, 193, 197, 199, 211, 223, 227, 229, 233, 239, 241, 251, 257, 263, 269, 271, 277, 281, 283, 293, 307, 311, 313, 317, 331, 337, 347, 349, 353, 359, 367, 373, 379, 383, 389, 397, 401, 409, 419, 421, 431, 433, 439, 443, 449, 457, 461, 463, 467, 479, 487, 491, 499, 503, 509, 521, 523, 541]\n",
            "  775 |  815 |  439 |  791 |  627 |  917 |  815 |  468 |  211 |  387 |\n",
            "  486 |  385 |  710 |  251 |  574 |  949 |  427 |  916 |  176 |  715 |\n",
            "  978 |  151 |  131 |  215 |  866 |  465 |  840 | 1000 |  485 |  443 |\n",
            "  468 |  403 |  838 |  221 |  147 |  576 |  170 |  942 |   13 |  726 |\n",
            "  770 |  192 |  742 |  531 |  907 |  227 |   12 |  793 |  275 |  357 |\n",
            "  430 |  965 |  202 |  995 |  347 |  985 |  143 |  598 |  138 |  981 |\n",
            "  505 |  717 |  107 |  174 |  904 |  179 |   51 |  743 |  230 |    2 |\n",
            "  992 |  358 |  368 |  450 |   17 |  587 |  788 |  672 |  852 |  399 |\n",
            "  641 |  553 |   86 |  263 |  881 |  718 |  924 |  693 |  863 |  939 |\n",
            "  763 |  273 |   55 |  631 |  602 |  191 |  568 |  422 |  801 |    4 |\n",
            "Números de la matriz que pertenecen a los primeros 100 números primos: [2, 13, 17, 107, 131, 151, 179, 191, 211, 227, 251, 263, 347, 439, 443]\n"
          ]
        }
      ]
    },
    {
      "cell_type": "code",
      "source": [
        "def votes(use_random=False):\n",
        "    \"\"\"\n",
        "        Escriba  un  algoritmo  que  emplee  una  matriz  para  registrar  los  votos  obtenidos  por  3  \n",
        "        candidatos en 4 zonas de la ciudad cuyos datos se ingresan por teclado. Obtener el total \n",
        "        de votos e imprimir el candidato ganador sí obtiene más del 50 % de la votación y en \n",
        "        caso contrario los dos candidatos que pasarían a segunda vuelta. \n",
        "    \"\"\"\n",
        "    print(\"8.  Sistema de votación por zonas\")\n",
        "    matrix = [[\"\" for i in range(5)] for j in range(6)]\n",
        "\n",
        "    candidates_and_votes = []\n",
        "\n",
        "    second = True\n",
        "\n",
        "    # Filas encabezados\n",
        "    row_headers(matrix)\n",
        "\n",
        "    # columns encabezados\n",
        "    cols_header(matrix)\n",
        "\n",
        "    # Datos\n",
        "    vote_values(matrix, use_random)\n",
        "\n",
        "    # Totalizar column\n",
        "    total_votes(matrix)\n",
        "\n",
        "    # Totalizar Fila\n",
        "    total_votes(matrix, False)\n",
        "\n",
        "    # Candidatos y votos Matriz\n",
        "    print_matrix(matrix, 11)\n",
        "\n",
        "    # Porcentajes\n",
        "    print(\"Porcentaje de votación por candidato:\")\n",
        "    for i in range(1, 4):\n",
        "        print(f\"Candidato {i}: {percentage(matrix, i)} %\")\n",
        "        candidates_and_votes.append(percentage(matrix, i))\n",
        "\n",
        "    for i in range(1, 4):\n",
        "        if percentage(matrix, i) > 50:\n",
        "            print(f\"El Candidato {i} ganó las elecciones\")\n",
        "            second = False\n",
        "\n",
        "    # Segunda vuelta\n",
        "    if second == True:\n",
        "        print(\"Candidatos que pasan a segunda vuelta:\")\n",
        "        for i in range(2):\n",
        "            print(\n",
        "                f\"Candidato {candidates_and_votes.index(getMaxValues(candidates_and_votes,2)[i])+1}: {getMaxValues(candidates_and_votes,2)[i]} %\"\n",
        "            )"
      ],
      "metadata": {
        "id": "-h3-i86zaEhY"
      },
      "execution_count": null,
      "outputs": []
    },
    {
      "cell_type": "code",
      "source": [
        "votes(True)"
      ],
      "metadata": {
        "colab": {
          "base_uri": "https://localhost:8080/"
        },
        "id": "WvIdEAgiaJzp",
        "outputId": "51fb2529-150d-424a-812b-ab2bbb8deb77"
      },
      "execution_count": null,
      "outputs": [
        {
          "output_type": "stream",
          "name": "stdout",
          "text": [
            "8.  Sistema de votación por zonas\n",
            "        Zona | Candidato 1 | Candidato 2 | Candidato 3 |       Total |\n",
            "           1 |          44 |          38 |          92 |         174 |\n",
            "           2 |          41 |          35 |          16 |          92 |\n",
            "           3 |           9 |          60 |          67 |         136 |\n",
            "           4 |          50 |          11 |          69 |         130 |\n",
            "       Total |         144 |         144 |         244 |         532 |\n",
            "Porcentaje de votación por candidato:\n",
            "Candidato 1: 27.07 %\n",
            "Candidato 2: 27.07 %\n",
            "Candidato 3: 45.86 %\n",
            "Candidatos que pasan a segunda vuelta:\n",
            "Candidato 3: 45.86 %\n",
            "Candidato 1: 27.07 %\n"
          ]
        }
      ]
    },
    {
      "cell_type": "code",
      "source": [
        "def spiral():\n",
        "    \"\"\"\n",
        "        Matriz Caracol( valor de este ejercicio 2 puntos): Generar una matriz cuadrada de nxn, \n",
        "        con los valores d e1 a n ordenándolos en forma de espiral dentro de la matriz\n",
        "    \"\"\"\n",
        "    print(\"9.  Generar una matriz en espiral\")\n",
        "    n = int(input(\"Tamaño de la matriz: \"))\n",
        "\n",
        "    matrix = generate_matrix(n, True)\n",
        "\n",
        "    fila_pos = 0\n",
        "\n",
        "    column_pos = 0\n",
        "\n",
        "    while column_pos < n * n:\n",
        "\n",
        "        num = n - (fila_pos * 2) - 1\n",
        "\n",
        "        temp_column_pos = column_pos\n",
        "\n",
        "        for i in range(num):\n",
        "\n",
        "            temp_column_pos += 1\n",
        "            matrix[fila_pos][i+fila_pos] = temp_column_pos\n",
        "            matrix[fila_pos+i][n-fila_pos-1] = temp_column_pos + num\n",
        "            matrix[n-fila_pos-1][n-fila_pos-i-1] = temp_column_pos + num * 2\n",
        "            matrix[n-fila_pos-i-1][fila_pos] = temp_column_pos + num * 3\n",
        "\n",
        "            if num == 2:\n",
        "                matrix[n-fila_pos-i-1][fila_pos +\n",
        "                                       1] = temp_column_pos + num * 3 + 1\n",
        "                column_pos += 1\n",
        "\n",
        "        fila_pos += 1\n",
        "\n",
        "        column_pos += num * 4\n",
        "\n",
        "    print_matrix(matrix)"
      ],
      "metadata": {
        "id": "X-pNmAJKaTyj"
      },
      "execution_count": null,
      "outputs": []
    },
    {
      "cell_type": "code",
      "source": [
        "spiral()"
      ],
      "metadata": {
        "colab": {
          "base_uri": "https://localhost:8080/"
        },
        "id": "UbFrcpU5ah_k",
        "outputId": "e38fb06e-e323-4352-998e-750e8dddc4d3"
      },
      "execution_count": null,
      "outputs": [
        {
          "output_type": "stream",
          "name": "stdout",
          "text": [
            "9.  Generar una matriz en espiral\n",
            "Tamaño de la matriz: 12\n",
            "    1 |    2 |    3 |    4 |    5 |    6 |    7 |    8 |    9 |   10 |   11 |   12 |\n",
            "   44 |   45 |   46 |   47 |   48 |   49 |   50 |   51 |   52 |   53 |   54 |   13 |\n",
            "   43 |   80 |   81 |   82 |   83 |   84 |   85 |   86 |   87 |   88 |   55 |   14 |\n",
            "   42 |   79 |  108 |  109 |  110 |  111 |  112 |  113 |  114 |   89 |   56 |   15 |\n",
            "   41 |   78 |  107 |  128 |  129 |  130 |  131 |  132 |  115 |   90 |   57 |   16 |\n",
            "   40 |   77 |  106 |  127 |  140 |  141 |  142 |  133 |  116 |   91 |   58 |   17 |\n",
            "   39 |   76 |  105 |  126 |  139 |  144 |  143 |  134 |  117 |   92 |   59 |   18 |\n",
            "   38 |   75 |  104 |  125 |  138 |  137 |  136 |  135 |  118 |   93 |   60 |   19 |\n",
            "   37 |   74 |  103 |  124 |  123 |  122 |  121 |  120 |  119 |   94 |   61 |   20 |\n",
            "   36 |   73 |  102 |  101 |  100 |   99 |   98 |   97 |   96 |   95 |   62 |   21 |\n",
            "   35 |   72 |   71 |   70 |   69 |   68 |   67 |   66 |   65 |   64 |   63 |   22 |\n",
            "   34 |   33 |   32 |   31 |   30 |   29 |   28 |   27 |   26 |   25 |   24 |   23 |\n"
          ]
        }
      ]
    },
    {
      "cell_type": "code",
      "source": [
        "def menu(option):\n",
        "    switch_options = {\n",
        "        1: matrix_10x10_max_and_min,\n",
        "        2: d_ppal_and_inv_sum,\n",
        "        3: sum_cols,\n",
        "        4: word_in_ppal_diag,\n",
        "        5: word_in_ppal_and_inv_diag,\n",
        "        6: matrix_of_fibonacci,\n",
        "        7: matrix_of_primes,\n",
        "        8: votes,\n",
        "        9: spiral\n",
        "    }\n",
        "\n",
        "    switch_options.get(option, error)()"
      ],
      "metadata": {
        "id": "2FBs5RZ6abcS"
      },
      "execution_count": null,
      "outputs": []
    },
    {
      "cell_type": "code",
      "source": [
        "menu(9)"
      ],
      "metadata": {
        "colab": {
          "base_uri": "https://localhost:8080/"
        },
        "id": "_BVpvXeMajkm",
        "outputId": "8fe173a4-6245-43dc-db4b-0c9e11063b5a"
      },
      "execution_count": null,
      "outputs": [
        {
          "output_type": "stream",
          "name": "stdout",
          "text": [
            "9.  Generar una matriz en espiral\n",
            "Tamaño de la matriz: 10\n",
            "    1 |    2 |    3 |    4 |    5 |    6 |    7 |    8 |    9 |   10 |\n",
            "   36 |   37 |   38 |   39 |   40 |   41 |   42 |   43 |   44 |   11 |\n",
            "   35 |   64 |   65 |   66 |   67 |   68 |   69 |   70 |   45 |   12 |\n",
            "   34 |   63 |   84 |   85 |   86 |   87 |   88 |   71 |   46 |   13 |\n",
            "   33 |   62 |   83 |   96 |   97 |   98 |   89 |   72 |   47 |   14 |\n",
            "   32 |   61 |   82 |   95 |  100 |   99 |   90 |   73 |   48 |   15 |\n",
            "   31 |   60 |   81 |   94 |   93 |   92 |   91 |   74 |   49 |   16 |\n",
            "   30 |   59 |   80 |   79 |   78 |   77 |   76 |   75 |   50 |   17 |\n",
            "   29 |   58 |   57 |   56 |   55 |   54 |   53 |   52 |   51 |   18 |\n",
            "   28 |   27 |   26 |   25 |   24 |   23 |   22 |   21 |   20 |   19 |\n"
          ]
        }
      ]
    },
    {
      "cell_type": "code",
      "source": [
        "def main():\n",
        "    menu_list()\n",
        "\n",
        "    stop = \"\"\n",
        "\n",
        "    while stop != \"SALIR\":\n",
        "        option = int(input(\"Seleccione una opción: \"))\n",
        "        print(\"\")\n",
        "        menu(option)\n",
        "        question()\n",
        "        stop = input(\n",
        "            \"¿Cuál opción elegiste?\\n\"\n",
        "        ).upper()\n",
        "        if stop == \"MENU\" or stop == \"MENÚ\":\n",
        "            menu_list()"
      ],
      "metadata": {
        "id": "J3GINrvUagTB"
      },
      "execution_count": null,
      "outputs": []
    },
    {
      "cell_type": "code",
      "source": [
        "main()"
      ],
      "metadata": {
        "colab": {
          "base_uri": "https://localhost:8080/"
        },
        "id": "9G65lMeZanp_",
        "outputId": "c9412d3a-ccc8-4983-af1a-dad31905fea1"
      },
      "execution_count": null,
      "outputs": [
        {
          "name": "stdout",
          "output_type": "stream",
          "text": [
            "\n",
            "    1.  Mayor y menor de una matriz y sus posiciones\n",
            "    2.  Sumatoria de diagonales\n",
            "    3.  Sumatoria de columnas\n",
            "    4.  Palabra en la diagonal principal\n",
            "    5.  Palabra en diagonales\n",
            "    6.  Números en la serie de Fibonacci\n",
            "    7.  Números en los números primos\n",
            "    8.  Sistema de votación por zonas\n",
            "    9.  Generar una matriz en espiral\n",
            "    \n",
            "Seleccione una opción: 1\n",
            "\n",
            "1.  Mayor y menor de una matriz y sus posiciones\n",
            "  771 |  185 |  363 |  511 |    9 |  706 |  244 |  423 |  777 |  946 |\n",
            "  212 |  786 |  400 |  675 |  105 |  904 |   43 |  485 |   87 |  547 |\n",
            "   49 |  844 |  540 |  432 |  557 |  688 |  587 |  156 |  823 |   66 |\n",
            "  821 |  287 |  691 |  584 |  889 |  680 |  897 |  953 |  781 |  920 |\n",
            "  263 |  336 |  764 |  193 |  432 |  187 |  740 |  775 |  255 |  321 |\n",
            "  669 |  306 |  881 |  911 |  403 |  557 |  478 |  349 |  409 |  335 |\n",
            "  976 |  440 |  309 |  703 |  494 |  322 |  229 |  216 |  635 |  587 |\n",
            "  693 |  945 |  745 |  433 |   76 |   95 |  966 |  923 |  597 |  580 |\n",
            "   75 |  591 |  630 |  444 |  960 |  398 |  172 |   60 |   48 |  910 |\n",
            "   32 |  548 |  416 |   31 |  439 |  886 |  405 |  390 |  615 |  251 |\n",
            "(Para las filas y columns, contar desde 1)   \n",
            "Forma 1 | Usando for para hallar el valor máximo y mínimo + su posición:\n",
            "El número mayor es: 976 y su posición es: {'Fila': 7, 'Columna': 1}\n",
            "El número menor es: 9 y su posición es: {'Fila': 1, 'Columna': 5}\n",
            "Si hay uno repetido muestra el primer indice\n",
            "\n",
            "(Para las filas y columns, contar desde 1)\n",
            "Forma 2 | Usando map, max y min para hallar el valor máximo y mínimo y después hallar el indice del valor:\n",
            "El número mayor es: 976 y su posición es: {'Fila': 7, 'Columna': 1}\n",
            "El número menor es: 9 y su posición es: {'Fila': 1, 'Columna': 5}\n",
            "Si hay uno repetido muestra el último indice\n",
            "\n",
            "__________________________________________________________________\n",
            "|1. Para terminar la ejecución del programa, ingrese: 'SALIR'    |\n",
            "|2. Para ver el menú ingresa:                         'MENÚ'     |       \n",
            "|3. Para ejecutar un nuevo punto:                     'OTRO'     |\n",
            "\n",
            "¿Cuál opción elegiste?\n",
            "otro\n",
            "Seleccione una opción: 2\n",
            "\n",
            "2.  Sumatoria de diagonales\n",
            "  910 |  363 |  164 |  917 |  140 |  159 |    9 |  650 |  125 |   91 |\n",
            "  355 |  437 |  628 |  641 |  234 |  380 |  651 |  468 |  221 |  140 |\n",
            "  922 |  990 |  121 |  244 |  783 |   83 |   99 |  342 |  733 |   23 |\n",
            "  962 |  784 |  324 |  852 |  355 |  703 |  664 |  711 |  578 |  618 |\n",
            "  360 |  394 |  559 |  616 |  267 |  949 |  757 |  831 |  243 |  356 |\n",
            "  875 |  687 |  803 |  946 |  569 |  211 |  659 |  943 |  447 |  605 |\n",
            "  862 |  385 |  279 |  304 |  401 |  216 |  804 |   42 |  207 |  489 |\n",
            "  329 |  281 |  815 |   39 |  354 |  349 |  124 |  371 |  747 |  362 |\n",
            "  821 |  876 |  185 |  796 |  303 |  666 |  137 |  182 |  626 |  776 |\n",
            "  473 |  820 |  685 |  733 |  545 |  471 |  448 |  801 |  716 |  282 |\n",
            "La diagonal principal es: [910, 437, 121, 852, 267, 211, 804, 371, 626, 282]\n",
            "La suma de la diagonal principal es: 4881\n",
            "La diagonal inversa es: [91, 221, 342, 664, 949, 569, 304, 815, 876, 473]\n",
            "La suma de la diagonal inversa es: 5304\n",
            "La resta de la diagonal inversa menos la diagonal principal es: 423\n",
            "__________________________________________________________________\n",
            "|1. Para terminar la ejecución del programa, ingrese: 'SALIR'    |\n",
            "|2. Para ver el menú ingresa:                         'MENÚ'     |       \n",
            "|3. Para ejecutar un nuevo punto:                     'OTRO'     |\n",
            "\n",
            "¿Cuál opción elegiste?\n",
            "otro\n",
            "Seleccione una opción: 3\n",
            "\n",
            "3.  Sumatoria de columnas\n",
            "  147 |  669 |  575 |  937 |  276 |  928 |  643 |  549 |  749 |  436 |\n",
            "  228 |  779 |  401 |  418 |  899 |  364 |  530 |  515 |  746 |  875 |\n",
            "  966 |  436 |  939 |  310 |  813 |  930 |  225 |  899 |  452 |  336 |\n",
            "  224 |  855 |  193 |   36 |  947 |  919 |   11 |  979 |  879 |  935 |\n",
            "  147 |  257 |  290 |  234 |  787 |  484 |  678 |  335 |  107 |  513 |\n",
            "  909 |  600 |  103 |  644 |  459 |  154 |  304 |  866 |  420 |  724 |\n",
            "  636 |  402 |  488 |  676 |   97 |  583 |  798 |  927 |  796 |  888 |\n",
            "  311 |  819 |  690 |  465 |  841 |  590 |  475 |  507 |  346 |  523 |\n",
            "  134 |  659 |   28 |  983 |  856 |  731 |  501 |  325 |  906 |  566 |\n",
            "  652 |  387 |  525 |  289 |  370 |  200 |  678 |  184 |   56 |  616 |\n",
            "La suma de la column 1 es: 4354\n",
            "La suma de la column 2 es: 5863\n",
            "La suma de la column 3 es: 4232\n",
            "La suma de la column 4 es: 4992\n",
            "La suma de la column 5 es: 6345\n",
            "La suma de la column 6 es: 5883\n",
            "La suma de la column 7 es: 4843\n",
            "La suma de la column 8 es: 6086\n",
            "La suma de la column 9 es: 5457\n",
            "La suma de la column 10 es: 6412\n",
            "__________________________________________________________________\n",
            "|1. Para terminar la ejecución del programa, ingrese: 'SALIR'    |\n",
            "|2. Para ver el menú ingresa:                         'MENÚ'     |       \n",
            "|3. Para ejecutar un nuevo punto:                     'OTRO'     |\n",
            "\n",
            "¿Cuál opción elegiste?\n",
            "otro\n",
            "Seleccione una opción: 4\n",
            "\n",
            "4.  Palabra en la diagonal principal\n",
            "Ingrese una palabra: Hola\n",
            " H |   |   |   |\n",
            "   | O |   |   |\n",
            "   |   | L |   |\n",
            "   |   |   | A |\n",
            "__________________________________________________________________\n",
            "|1. Para terminar la ejecución del programa, ingrese: 'SALIR'    |\n",
            "|2. Para ver el menú ingresa:                         'MENÚ'     |       \n",
            "|3. Para ejecutar un nuevo punto:                     'OTRO'     |\n",
            "\n",
            "¿Cuál opción elegiste?\n",
            "otro\n",
            "Seleccione una opción: 5\n",
            "\n",
            "5.  Palabra en diagonales\n",
            "Ingrese una palabra: adios\n",
            " A |   |   |   | S |\n",
            "   | D |   | O |   |\n",
            "   |   | I |   |   |\n",
            "   | D |   | O |   |\n",
            " A |   |   |   | S |\n",
            "__________________________________________________________________\n",
            "|1. Para terminar la ejecución del programa, ingrese: 'SALIR'    |\n",
            "|2. Para ver el menú ingresa:                         'MENÚ'     |       \n",
            "|3. Para ejecutar un nuevo punto:                     'OTRO'     |\n",
            "\n",
            "¿Cuál opción elegiste?\n",
            "otro\n",
            "Seleccione una opción: 6\n",
            "\n",
            "6.  Números en la serie de Fibonacci\n",
            "Serie de Fibonacci: [0, 1, 1, 2, 3, 5, 8, 13, 21, 34, 55, 89, 144, 233, 377, 610, 987, 1597, 2584, 4181, 6765, 10946, 17711, 28657, 46368, 75025, 121393, 196418, 317811, 514229, 832040, 1346269, 2178309, 3524578, 5702887, 9227465, 14930352, 24157817, 39088169, 63245986, 102334155, 165580141, 267914296, 433494437, 701408733, 1134903170, 1836311903, 2971215073, 4807526976, 7778742049, 12586269025, 20365011074, 32951280099, 53316291173, 86267571272, 139583862445, 225851433717, 365435296162, 591286729879, 956722026041, 1548008755920, 2504730781961, 4052739537881, 6557470319842, 10610209857723, 17167680177565, 27777890035288, 44945570212853, 72723460248141, 117669030460994, 190392490709135, 308061521170129, 498454011879265, 806515533049395, 1304969544928660, 2111485077978055, 3416454622906715, 5527939700884771, 8944394323791488, 14472334024676260, 23416728348467744, 37889062373144008, 61305790721611752, 99194853094755776, 160500643816367552, 259695496911123328, 420196140727490880, 679891637638614272, 1100087778366105088, 1779979416004719360, 2880067194370824704, 4660046610375544832, 7540113804746369024, 12200160415121913856, 19740274219868282880, 31940434634990198784, 51680708854858489856, 83621143489848688640, 135301852344707186688, 218922995834555891712]\n",
            "  114 |  736 |  545 |  232 |  938 |  349 |  348 |  880 |  410 |  866 |\n",
            "  583 |  875 |  326 |  677 |  487 |  695 |  434 |  923 |  683 |  800 |\n",
            "  430 |  527 |  873 |  348 |  411 |  385 |  593 |  196 |  416 |  551 |\n",
            "  274 |  165 |   96 |  246 |  509 |  268 |  848 |  373 |  668 |  680 |\n",
            "  669 |  462 |  203 |  276 |  641 |  460 |  421 |  448 |  525 |  720 |\n",
            "  417 |  684 |  587 |  834 |  992 |  803 |  214 |  641 |  765 |  976 |\n",
            "  625 |  369 |  778 |  680 |  942 |  925 |  757 |  286 |  228 |  254 |\n",
            "  682 |  398 |  630 |  672 |  960 |  295 |  624 |  180 |  141 |  649 |\n",
            "  769 |  926 |  841 |   36 |  846 |  258 |  596 |  771 |  164 |  568 |\n",
            "  661 |  269 |  900 |  241 |  907 |  711 |  941 |  372 |  787 |  928 |\n",
            "Números de la matriz que pertenecen a la serie de Fibonacci: []\n",
            "__________________________________________________________________\n",
            "|1. Para terminar la ejecución del programa, ingrese: 'SALIR'    |\n",
            "|2. Para ver el menú ingresa:                         'MENÚ'     |       \n",
            "|3. Para ejecutar un nuevo punto:                     'OTRO'     |\n",
            "\n",
            "¿Cuál opción elegiste?\n",
            "otro\n",
            "Seleccione una opción: 7\n",
            "\n",
            "7.  Números en los números primos\n",
            "Primeros 100 números primos: [2, 3, 5, 7, 11, 13, 17, 19, 23, 29, 31, 37, 41, 43, 47, 53, 59, 61, 67, 71, 73, 79, 83, 89, 97, 101, 103, 107, 109, 113, 127, 131, 137, 139, 149, 151, 157, 163, 167, 173, 179, 181, 191, 193, 197, 199, 211, 223, 227, 229, 233, 239, 241, 251, 257, 263, 269, 271, 277, 281, 283, 293, 307, 311, 313, 317, 331, 337, 347, 349, 353, 359, 367, 373, 379, 383, 389, 397, 401, 409, 419, 421, 431, 433, 439, 443, 449, 457, 461, 463, 467, 479, 487, 491, 499, 503, 509, 521, 523, 541]\n",
            "  201 |  117 |  344 |  707 |  111 |  267 |  571 |  977 |  524 |  457 |\n",
            "  593 |  659 |  852 |  489 |  302 |  837 |  595 |  552 |  592 |  921 |\n",
            "  584 |  267 |  628 |  532 |  832 |  781 |  413 |  338 |   43 |  783 |\n",
            "  356 |   17 |  142 |  243 |  699 |  637 |  283 |  719 |  566 |  319 |\n",
            "  642 |  578 |  244 |  796 |  284 |  761 |  803 |  332 |  130 |   27 |\n",
            "  209 |  836 |  125 |  708 |  135 |  105 |  188 |  569 |  586 |   94 |\n",
            "  321 |  531 |  134 |  814 |  774 |  176 |  498 |  894 |   72 |  931 |\n",
            "  464 |  415 |  798 |  304 |  251 |  808 |  185 |  812 |  208 |  436 |\n",
            "  439 |  462 |  923 |  678 |  295 |  762 |  959 |  391 |  492 |  520 |\n",
            "  914 |  166 |  480 |  341 |  602 |  778 |  609 |  291 |   32 |  982 |\n",
            "Números de la matriz que pertenecen a los primeros 100 números primos: [17, 43, 251, 283, 439, 457]\n",
            "__________________________________________________________________\n",
            "|1. Para terminar la ejecución del programa, ingrese: 'SALIR'    |\n",
            "|2. Para ver el menú ingresa:                         'MENÚ'     |       \n",
            "|3. Para ejecutar un nuevo punto:                     'OTRO'     |\n",
            "\n",
            "¿Cuál opción elegiste?\n",
            "otro\n",
            "Seleccione una opción: 8\n",
            "\n",
            "8.  Sistema de votación por zonas\n",
            "Cantidad de votos Candidato 1 zona 1: 12\n",
            "Cantidad de votos Candidato 2 zona 1: 13\n",
            "Cantidad de votos Candidato 3 zona 1: 14\n",
            "Cantidad de votos Candidato 1 zona 2: 12\n",
            "Cantidad de votos Candidato 2 zona 2: 13\n",
            "Cantidad de votos Candidato 3 zona 2: 14\n",
            "Cantidad de votos Candidato 1 zona 3: 12\n",
            "Cantidad de votos Candidato 2 zona 3: 13\n",
            "Cantidad de votos Candidato 3 zona 3: 14\n",
            "Cantidad de votos Candidato 1 zona 4: 12\n",
            "Cantidad de votos Candidato 2 zona 4: 13\n",
            "Cantidad de votos Candidato 3 zona 4: 14\n",
            "        Zona | Candidato 1 | Candidato 2 | Candidato 3 |       Total |\n",
            "           1 |          12 |          13 |          14 |          39 |\n",
            "           2 |          12 |          13 |          14 |          39 |\n",
            "           3 |          12 |          13 |          14 |          39 |\n",
            "           4 |          12 |          13 |          14 |          39 |\n",
            "       Total |          48 |          52 |          56 |         156 |\n",
            "Porcentaje de votación por candidato:\n",
            "Candidato 1: 30.77 %\n",
            "Candidato 2: 33.33 %\n",
            "Candidato 3: 35.9 %\n",
            "Candidatos que pasan a segunda vuelta:\n",
            "Candidato 3: 35.9 %\n",
            "Candidato 2: 33.33 %\n",
            "__________________________________________________________________\n",
            "|1. Para terminar la ejecución del programa, ingrese: 'SALIR'    |\n",
            "|2. Para ver el menú ingresa:                         'MENÚ'     |       \n",
            "|3. Para ejecutar un nuevo punto:                     'OTRO'     |\n",
            "\n",
            "¿Cuál opción elegiste?\n",
            "otro\n",
            "Seleccione una opción: 9\n",
            "\n",
            "9.  Generar una matriz en espiral\n",
            "Tamaño de la matriz: 12\n",
            "    1 |    2 |    3 |    4 |    5 |    6 |    7 |    8 |    9 |   10 |   11 |   12 |\n",
            "   44 |   45 |   46 |   47 |   48 |   49 |   50 |   51 |   52 |   53 |   54 |   13 |\n",
            "   43 |   80 |   81 |   82 |   83 |   84 |   85 |   86 |   87 |   88 |   55 |   14 |\n",
            "   42 |   79 |  108 |  109 |  110 |  111 |  112 |  113 |  114 |   89 |   56 |   15 |\n",
            "   41 |   78 |  107 |  128 |  129 |  130 |  131 |  132 |  115 |   90 |   57 |   16 |\n",
            "   40 |   77 |  106 |  127 |  140 |  141 |  142 |  133 |  116 |   91 |   58 |   17 |\n",
            "   39 |   76 |  105 |  126 |  139 |  144 |  143 |  134 |  117 |   92 |   59 |   18 |\n",
            "   38 |   75 |  104 |  125 |  138 |  137 |  136 |  135 |  118 |   93 |   60 |   19 |\n",
            "   37 |   74 |  103 |  124 |  123 |  122 |  121 |  120 |  119 |   94 |   61 |   20 |\n",
            "   36 |   73 |  102 |  101 |  100 |   99 |   98 |   97 |   96 |   95 |   62 |   21 |\n",
            "   35 |   72 |   71 |   70 |   69 |   68 |   67 |   66 |   65 |   64 |   63 |   22 |\n",
            "   34 |   33 |   32 |   31 |   30 |   29 |   28 |   27 |   26 |   25 |   24 |   23 |\n",
            "__________________________________________________________________\n",
            "|1. Para terminar la ejecución del programa, ingrese: 'SALIR'    |\n",
            "|2. Para ver el menú ingresa:                         'MENÚ'     |       \n",
            "|3. Para ejecutar un nuevo punto:                     'OTRO'     |\n",
            "\n",
            "¿Cuál opción elegiste?\n",
            "salir\n"
          ]
        }
      ]
    },
    {
      "cell_type": "markdown",
      "source": [
        "# Pseint punto 9\n",
        "Algoritmo ProcesoEspiral\n",
        "    iz_derecha = 0\n",
        "    \n",
        "\ta_abajo = 1\n",
        "    \n",
        "\td_izquierda = 2\n",
        "    \n",
        "\ta_arriba = 3\n",
        "    \n",
        "\ti = 1\n",
        "    \n",
        "\tdireccion = iz_derecha\n",
        "    \n",
        "\tEscribir \"Ingrese el tamño de la matriz de n x n:\"\n",
        "    \n",
        "\tLeer rows\n",
        "    \n",
        "\tcolumnas = rows\n",
        "\t\n",
        "    Dimension matriz(rows, columnas)\n",
        "\t\n",
        "\tSi rows = 1 Entonces\n",
        "\t\tEscribir \"Matriz? es de tamaño 1 x 1 \"\n",
        "\tSiNo\n",
        "\t\tPara row = 1 Hasta rows Con Paso 1 Hacer\n",
        "\t\t\tPara columna = 1 Hasta columnas Con Paso 1 Hacer\n",
        "\t\t\t\tmatriz[row,columna] = -1\n",
        "\t\t\tFinPara\n",
        "\t\tFinPara\n",
        "\tFinSi\t\n",
        "    \n",
        "\trow = 1\n",
        "\t\n",
        "    columna = 1\n",
        "\t\n",
        "    Mientras matriz[row,columna] = -1 Hacer\n",
        "        matriz[row,columna] = i\n",
        "        \n",
        "\t\ti = i+1\n",
        "        \n",
        "\t\tSegun direccion Hacer\n",
        "            iz_derecha:\n",
        "                Si columna<columnas Entonces\n",
        "                    Si matriz[row,columna+1]=-1 Entonces\n",
        "                        columna = columna+1\n",
        "                    Sino\n",
        "                        direccion = a_abajo\n",
        "                        row = row+1\n",
        "                    FinSi\n",
        "                Sino\n",
        "                    direccion = a_abajo\n",
        "                    row = row+1\n",
        "                FinSi\n",
        "            a_abajo:\n",
        "                Si row<rows Entonces\n",
        "                    Si matriz[row+1,columna]=-1 Entonces\n",
        "                        row = row+1\n",
        "                    Sino\n",
        "                        direccion = d_izquierda\n",
        "                        columna = columna-1\n",
        "                    FinSi\n",
        "                Sino\n",
        "                    direccion = d_izquierda\n",
        "                    columna = columna-1\n",
        "                FinSi\n",
        "            d_izquierda:\n",
        "                Si columna>1 Entonces\n",
        "                    Si matriz[row,columna-1]=-1 Entonces\n",
        "                        columna = columna-1\n",
        "                    Sino\n",
        "                        direccion = a_arriba\n",
        "                        row = row-1\n",
        "                    FinSi\n",
        "                Sino\n",
        "                    direccion = a_arriba\n",
        "                    row = row-1\n",
        "                FinSi\n",
        "            a_arriba:\n",
        "                Si row>1 Entonces\n",
        "                    Si matriz[row-1,columna]=-1 Entonces\n",
        "                        row = row-1\n",
        "                    Sino\n",
        "                        direccion = iz_derecha\n",
        "                        columna = columna+1\n",
        "                    FinSi\n",
        "                Sino\n",
        "                    direccion = iz_derecha\n",
        "                    columna = columna+1\n",
        "                FinSi\n",
        "        FinSegun\n",
        "    FinMientras\n",
        "    Escribir \"\"\n",
        "\tEscribir \"Resultado:\"\n",
        "\t\n",
        "\tSi rows = 1 Entonces\n",
        "\t\tEscribir \"|  1  |\"\n",
        "\tSiNo\n",
        "\t\tPara row=1 Hasta rows Con Paso 1 Hacer\n",
        "\t\t\tlinea = \"|\"\n",
        "\t\t\tPara columna=1 Hasta columnas Con Paso 1 Hacer\n",
        "\t\t\t\tSi matriz[row,columna]<10 Entonces\n",
        "\t\t\t\t\tlinea = Concatenar(linea, \" \")\n",
        "\t\t\t\tSino\n",
        "\t\t\t\t\tlinea = Concatenar(linea, \" \")\n",
        "\t\t\t\tFinSi\n",
        "\t\t\t\tlinea = Concatenar(linea, ConvertirATexto(matriz[row,columna]))\n",
        "\t\t\tFinPara\n",
        "\t\t\tEscribir linea, \"  |\"\n",
        "\t\tFinPara\n",
        "\tFinSi\n",
        "FinAlgoritmo\n"
      ],
      "metadata": {
        "id": "M5HRzilEb4j0"
      }
    }
  ]
}